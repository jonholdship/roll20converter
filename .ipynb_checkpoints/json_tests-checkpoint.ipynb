{
 "cells": [
  {
   "cell_type": "code",
   "execution_count": 1,
   "metadata": {},
   "outputs": [],
   "source": [
    "import json\n",
    "import Monster"
   ]
  },
  {
   "cell_type": "markdown",
   "metadata": {},
   "source": [
    "# Formatting Tests\n",
    "\n",
    "When you bulk export your monster maker monsters, it appears to export a \"vault\". Every monster is part of the \"vault\" and, from what I can tell, the blueprint is the actual modified statblock of the creature so we'll need\n",
    "\n",
    "```\n",
    "for monster in mm_json[\"vault\"]:\n",
    "    monster=monster[\"blueprint\"]\n",
    "```\n",
    "my plan is then to create a monster object with one property per key in the roll20 JSON. Below, I've started to fill out as many basic properties of the monster as I can by comparing the two jsons.\n",
    "\n",
    "\n",
    "### To Do\n",
    "- Create a monster of my own in monster maker with several immunities, vulnerabilities and resistances. That way I can get a good look at how it will be outputted because the monster I was given is the default. I also need it for the format of the saving throws and proficiencies."
   ]
  },
  {
   "cell_type": "code",
   "execution_count": 2,
   "metadata": {},
   "outputs": [],
   "source": [
    "mm_vault_json=open(\"monster_vault Template.json\")\n",
    "mm_vault_json=json.load(mm_vault_json)"
   ]
  },
  {
   "cell_type": "code",
   "execution_count": 3,
   "metadata": {},
   "outputs": [],
   "source": [
    "r20_json=open(\"Roll20_Lich.json\")\n",
    "r20_json=json.load(r20_json)"
   ]
  },
  {
   "cell_type": "code",
   "execution_count": 4,
   "metadata": {},
   "outputs": [],
   "source": [
    "mm_complex_json=open(\"complex_monster_MM.json\")\n",
    "mm_complex_json=json.load(mm_complex_json)"
   ]
  },
  {
   "cell_type": "code",
   "execution_count": 5,
   "metadata": {},
   "outputs": [],
   "source": [
    "monster=mm_vault_json[\"vault\"][1][\"blueprint\"]\n",
    "complex_monster=mm_complex_json[\"blueprint\"]"
   ]
  },
  {
   "cell_type": "code",
   "execution_count": 6,
   "metadata": {},
   "outputs": [],
   "source": [
    "custom_monster=open(\"complex_monster_MM_custom.json\")\n",
    "custom_monster=json.load(custom_monster)\n",
    "custom_monster=custom_monster[\"blueprint\"]"
   ]
  },
  {
   "cell_type": "code",
   "execution_count": null,
   "metadata": {},
   "outputs": [],
   "source": []
  },
  {
   "cell_type": "code",
   "execution_count": null,
   "metadata": {},
   "outputs": [],
   "source": []
  },
  {
   "cell_type": "code",
   "execution_count": null,
   "metadata": {},
   "outputs": [],
   "source": []
  },
  {
   "cell_type": "code",
   "execution_count": null,
   "metadata": {},
   "outputs": [],
   "source": []
  },
  {
   "cell_type": "code",
   "execution_count": null,
   "metadata": {},
   "outputs": [],
   "source": [
    "monster=custom_monster.copy()\n",
    "\n",
    "name=monster[\"description\"][\"name\"]\n",
    "size=monster[\"description\"][\"size\"]\n",
    "monster_type=monster[\"description\"][\"type\"]\n",
    "alignment=monster[\"description\"][\"alignment\"]\n",
    "hp=f\"{monster['hp']['average']} ({monster['hp']['roll']})\"\n",
    "cr=monster[\"challenge\"][\"rating\"]\n",
    "\n",
    "#how do I get this?\n",
    "proficiency=1\n",
    "\n",
    "#get AC from base+mod then make a string with the AC type\n",
    "if monster[\"ac\"][\"modifier\"]==None:\n",
    "    ac=0.0\n",
    "else:\n",
    "    ac=float(monster[\"ac\"][\"modifier\"])\n",
    "ac=monster[\"ac\"][\"base\"]+ac\n",
    "ac=f\"{ac} ({monster['ac']['type']})\"\n",
    "\n",
    "\n",
    "#speed and senses are dictionaries of type:distance\n",
    "#so we combine to a comma separated list of type and distance\n",
    "speed=monster[\"speed\"]\n",
    "speed=\", \".join([f\"{x.capitalize()} {y}\" for x,y in speed.items()])\n",
    "\n",
    "senses=monster[\"senses\"]\n",
    "senses=\", \".join([f\"{x.capitalize()} {y}\" for x,y in senses.items() if y is not None])\n",
    "\n",
    "languages=\", \".join([x[\"name\"].capitalize() for x in monster[\"languages\"]])\n",
    "\n",
    "abilities=dict(zip(list(monster[\"abilities\"].keys())[:6],list(monster[\"abilities\"].values())[:6]))\n",
    "\n",
    "skills=[]\n",
    "for skill in monster[\"skills\"]:\n",
    "    skill_name=skill[\"name\"].capitalize()\n",
    "    skill_mod=abilities[skill[\"custom\"][\"ability\"]]+proficiency\n",
    "    skills.append(f\"{skill_name} +{skill_mod}\")\n",
    "skills=\", \".join(skills)\n",
    "\n",
    "resistances=\", \".join([f\"{x['type'].capitalize()}\" for x in monster[\"resistances\"]])\n",
    "immunities=\", \".join([f\"{x['type'].capitalize()}\" for x in monster[\"immunities\"]])\n",
    "vulnerabilities=\", \".join([f\"{x['type'].capitalize()}\" for x in monster[\"vulnerabilities\"]])\n",
    "conditions=\", \".join([f\"{x['type'].capitalize()}\" for x in monster[\"conditions\"]])\n",
    "\n",
    "#traits in both formats are a list of dictionaries with name and description as keys\n",
    "#however description has a different name in each format so loop to rename\n",
    "traits=monster[\"traits\"]\n",
    "for i in range(len(traits)):\n",
    "    trait=traits[i]\n",
    "    trait[\"text\"]=trait.pop(\"detail\",\"\")\n",
    "    traits[i]=trait\n",
    "    \n",
    "#Same deal for actions\n",
    "actions=monster[\"actions\"]\n",
    "for i in range(len(actions)):\n",
    "    action=actions[i]\n",
    "    action[\"text\"]=action.pop(\"detail\",\"\")\n",
    "    actions[i]=action\n",
    "    \n",
    "#and reactions\n",
    "reactions=monster[\"reactions\"]\n",
    "for i in range(len(actions)):\n",
    "    action=reactions[i]\n",
    "    action[\"text\"]=action.pop(\"detail\",\"\")\n",
    "    reactions[i]=action\n",
    "    \n",
    "# finally legendary actions\n",
    "# MM has no concept of cost so it will just be in the detail\n",
    "legendaryActions=monster[\"legendaryActions\"]\n",
    "for i in range(len(actions)):\n",
    "    action=legendaryActions[i]\n",
    "    action[\"text\"]=action.pop(\"detail\",\"\")\n",
    "    legendaryActions[i]=action\n",
    "    \n",
    "legendaryPoints=monster['legendaryActionsPerRound']"
   ]
  },
  {
   "cell_type": "code",
   "execution_count": 7,
   "metadata": {},
   "outputs": [],
   "source": [
    "customm_monster=Monster.Monster(custom_monster)"
   ]
  },
  {
   "cell_type": "code",
   "execution_count": null,
   "metadata": {},
   "outputs": [],
   "source": [
    "# 'savingThrows', "
   ]
  },
  {
   "cell_type": "code",
   "execution_count": null,
   "metadata": {},
   "outputs": [],
   "source": [
    "r20_json[\"legendaryActions\"]"
   ]
  },
  {
   "cell_type": "code",
   "execution_count": null,
   "metadata": {},
   "outputs": [],
   "source": [
    "monster['legendaryActions']"
   ]
  },
  {
   "cell_type": "code",
   "execution_count": null,
   "metadata": {},
   "outputs": [],
   "source": [
    "legendaryActions"
   ]
  },
  {
   "cell_type": "code",
   "execution_count": null,
   "metadata": {},
   "outputs": [],
   "source": []
  },
  {
   "cell_type": "code",
   "execution_count": null,
   "metadata": {},
   "outputs": [],
   "source": [
    "complex_monster"
   ]
  }
 ],
 "metadata": {
  "kernelspec": {
   "display_name": "Python 3",
   "language": "python",
   "name": "python3"
  },
  "language_info": {
   "codemirror_mode": {
    "name": "ipython",
    "version": 3
   },
   "file_extension": ".py",
   "mimetype": "text/x-python",
   "name": "python",
   "nbconvert_exporter": "python",
   "pygments_lexer": "ipython3",
   "version": "3.7.6"
  }
 },
 "nbformat": 4,
 "nbformat_minor": 4
}
