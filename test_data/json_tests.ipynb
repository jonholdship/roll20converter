{
 "cells": [
  {
   "cell_type": "code",
   "execution_count": 1,
   "metadata": {},
   "outputs": [],
   "source": [
    "import json\n",
    "import Monster"
   ]
  },
  {
   "cell_type": "markdown",
   "metadata": {},
   "source": [
    "# Formatting Tests\n",
    "\n",
    "When you bulk export your monster maker monsters, it appears to export a \"vault\". Every monster is part of the \"vault\" and, from what I can tell, the blueprint is the actual modified statblock of the creature so we'll need\n",
    "\n",
    "```\n",
    "for monster in mm_json[\"vault\"]:\n",
    "    monster=monster[\"blueprint\"]\n",
    "```\n",
    "my plan is then to create a monster object with one property per key in the roll20 JSON. Below, I've started to fill out as many basic properties of the monster as I can by comparing the two jsons.\n",
    "\n"
   ]
  },
  {
   "cell_type": "code",
   "execution_count": 2,
   "metadata": {},
   "outputs": [],
   "source": [
    "mm_vault_json=open(\"monster_vault Template.json\")\n",
    "mm_vault_json=json.load(mm_vault_json)"
   ]
  },
  {
   "cell_type": "code",
   "execution_count": 3,
   "metadata": {},
   "outputs": [],
   "source": [
    "r20_json=open(\"Roll20_Lich.json\")\n",
    "r20_json=json.load(r20_json)"
   ]
  },
  {
   "cell_type": "code",
   "execution_count": 4,
   "metadata": {},
   "outputs": [],
   "source": [
    "mm_complex_json=open(\"complex_monster_MM.json\")\n",
    "mm_complex_json=json.load(mm_complex_json)"
   ]
  },
  {
   "cell_type": "code",
   "execution_count": 5,
   "metadata": {},
   "outputs": [],
   "source": [
    "monster=mm_vault_json[\"vault\"][1][\"blueprint\"]\n",
    "complex_monster=mm_complex_json[\"blueprint\"]"
   ]
  },
  {
   "cell_type": "code",
   "execution_count": 6,
   "metadata": {},
   "outputs": [],
   "source": [
    "custom_monster=open(\"complex_monster_MM_custom.json\")\n",
    "custom_monster=json.load(custom_monster)\n",
    "custom_monster=custom_monster[\"blueprint\"]"
   ]
  },
  {
   "cell_type": "code",
   "execution_count": null,
   "metadata": {},
   "outputs": [],
   "source": [
    "monster=custom_monster.copy()\n",
    "\n",
    "name=monster[\"description\"][\"name\"]\n",
    "size=monster[\"description\"][\"size\"]\n",
    "monster_type=monster[\"description\"][\"type\"]\n",
    "alignment=monster[\"description\"][\"alignment\"]\n",
    "hp=f\"{monster['hp']['average']} ({monster['hp']['roll']})\"\n",
    "cr=monster[\"challenge\"][\"rating\"]\n",
    "\n",
    "#how do I get this?\n",
    "proficiency=1\n",
    "\n",
    "#get AC from base+mod then make a string with the AC type\n",
    "if monster[\"ac\"][\"modifier\"]==None:\n",
    "    ac=0.0\n",
    "else:\n",
    "    ac=float(monster[\"ac\"][\"modifier\"])\n",
    "ac=monster[\"ac\"][\"base\"]+ac\n",
    "ac=f\"{ac} ({monster['ac']['type']})\"\n",
    "\n",
    "\n",
    "#speed and senses are dictionaries of type:distance\n",
    "#so we combine to a comma separated list of type and distance\n",
    "speed=monster[\"speed\"]\n",
    "speed=\", \".join([f\"{x.capitalize()} {y}\" for x,y in speed.items()])\n",
    "\n",
    "senses=monster[\"senses\"]\n",
    "senses=\", \".join([f\"{x.capitalize()} {y}\" for x,y in senses.items() if y is not None])\n",
    "\n",
    "languages=\", \".join([x[\"name\"].capitalize() for x in monster[\"languages\"]])\n",
    "\n",
    "abilities=dict(zip(list(monster[\"abilities\"].keys())[:6],list(monster[\"abilities\"].values())[:6]))\n",
    "\n",
    "skills=[]\n",
    "for skill in monster[\"skills\"]:\n",
    "    skill_name=skill[\"name\"].capitalize()\n",
    "    skill_mod=abilities[skill[\"custom\"][\"ability\"]]+proficiency\n",
    "    skills.append(f\"{skill_name} +{skill_mod}\")\n",
    "skills=\", \".join(skills)\n",
    "\n",
    "resistances=\", \".join([f\"{x['type'].capitalize()}\" for x in monster[\"resistances\"]])\n",
    "immunities=\", \".join([f\"{x['type'].capitalize()}\" for x in monster[\"immunities\"]])\n",
    "vulnerabilities=\", \".join([f\"{x['type'].capitalize()}\" for x in monster[\"vulnerabilities\"]])\n",
    "conditions=\", \".join([f\"{x['type'].capitalize()}\" for x in monster[\"conditions\"]])\n",
    "\n",
    "#traits in both formats are a list of dictionaries with name and description as keys\n",
    "#however description has a different name in each format so loop to rename\n",
    "traits=monster[\"traits\"]\n",
    "for i in range(len(traits)):\n",
    "    trait=traits[i]\n",
    "    trait[\"text\"]=trait.pop(\"detail\",\"\")\n",
    "    traits[i]=trait\n",
    "    \n",
    "#Same deal for actions\n",
    "actions=monster[\"actions\"]\n",
    "for i in range(len(actions)):\n",
    "    action=actions[i]\n",
    "    action[\"text\"]=action.pop(\"detail\",\"\")\n",
    "    actions[i]=action\n",
    "    \n",
    "#and reactions\n",
    "reactions=monster[\"reactions\"]\n",
    "for i in range(len(actions)):\n",
    "    action=reactions[i]\n",
    "    action[\"text\"]=action.pop(\"detail\",\"\")\n",
    "    reactions[i]=action\n",
    "    \n",
    "# finally legendary actions\n",
    "# MM has no concept of cost so it will just be in the detail\n",
    "legendaryActions=monster[\"legendaryActions\"]\n",
    "for i in range(len(actions)):\n",
    "    action=legendaryActions[i]\n",
    "    action[\"text\"]=action.pop(\"detail\",\"\")\n",
    "    legendaryActions[i]=action\n",
    "    \n",
    "legendaryPoints=monster['legendaryActionsPerRound']"
   ]
  },
  {
   "cell_type": "markdown",
   "metadata": {},
   "source": [
    "# Class tests\n",
    "Once we have the monster stored in a class we can look at how to make a roll20 dict."
   ]
  },
  {
   "cell_type": "code",
   "execution_count": 7,
   "metadata": {},
   "outputs": [
    {
     "data": {
      "text/plain": [
       "dict_keys(['name', 'size', 'type', 'alignment', 'AC', 'HP', 'speed', 'strength', 'dexterity', 'constitution', 'intelligence', 'wisdom', 'charisma', 'savingThrows', 'skills', 'damageResistances', 'damageImmunities', 'conditionImmunities', 'senses', 'languages', 'challenge', 'traits', 'actions', 'reactions', 'legendaryPoints', 'legendaryActions'])"
      ]
     },
     "execution_count": 7,
     "metadata": {},
     "output_type": "execute_result"
    }
   ],
   "source": [
    "r20_json.keys()"
   ]
  },
  {
   "cell_type": "code",
   "execution_count": 8,
   "metadata": {},
   "outputs": [],
   "source": [
    "custom_monster=Monster.Monster(custom_monster)\n"
   ]
  },
  {
   "cell_type": "code",
   "execution_count": 9,
   "metadata": {},
   "outputs": [
    {
     "data": {
      "text/plain": [
       "'{\"name\": \"Mich\", \"size\": \"medium\", \"alignment\": \"unaligned\", \"challenge\": \"5\", \"proficiency\": 1, \"speed\": \"Normal 30 ft., Burrow 30 ft., Climb None, Fly None, Swim None, Other None\", \"senses\": \"Blindsight 30 ft., Darkvision 30 ft.\", \"languages\": \"Common\", \"savingThrows\": \"\", \"skills\": \"Acrobatics +19, Religion +19\", \"damageResistances\": \"Fire, Force, Acid\", \"damageImmunities\": \"Fire, Acid\", \"vulnerabilities\": \"Acid, Slashing, Psychic\", \"conditionImmunities\": \"Blinded, Unconscious\", \"traits\": [{\"name\": \"(Striker) Savage Assault\", \"text\": \"Once per turn, add your level in extra damage to an attack.\"}, {\"name\": \"Shifty\", \"text\": \"You can _Disengage_ as a bonus action.\"}], \"actions\": [{\"name\": \"Bash\", \"text\": \"_Melee Weapon Attack:_ [attack] vs AC. _Hit:_ [damage, d4] slashing damage.\"}, {\"name\": \"Kill\", \"text\": \"_Melee Weapon Attack:_ [dc-primary] vs Strength. _Hit:_ the target is pushed up to 10 ft away.\"}], \"reactions\": [{\"name\": \"cry\", \"text\": \"you hurt me\"}, {\"name\": \"why?\", \"text\": null}], \"legendaryActions\": [{\"name\": \"Blah\", \"text\": \"Blah Blah\"}, {\"name\": \"Smash\", \"text\": \"hulk smash\"}], \"legendaryPoints\": 3, \"type\": \"humanoid\", \"HP\": \"240 (2d8+10)\", \"AC\": \"14.0 (natural)\", \"strength\": 18, \"dexterity\": 8, \"constitution\": 12, \"intelligence\": 20, \"wisdom\": 10, \"charisma\": 4}'"
      ]
     },
     "execution_count": 9,
     "metadata": {},
     "output_type": "execute_result"
    }
   ],
   "source": [
    "custom_monster.to_r20_format()"
   ]
  },
  {
   "cell_type": "code",
   "execution_count": null,
   "metadata": {},
   "outputs": [],
   "source": [
    "out_dict=vars(custom_monster)\n",
    "out_dict[\"type\"]=out_dict.pop(\"monster_type\",\"\")\n",
    "\n",
    "for key in [\"hp\",\"ac\"]:\n",
    "    out_dict[key.upper()]=out_dict.pop(key,\"\")\n",
    "    \n",
    "ability_keys=list(out_dict[\"abilities\"].keys())\n",
    "for i,key in enumerate(['strength', 'dexterity', 'constitution', 'intelligence', 'wisdom', 'charisma']):\n",
    "    out_dict[key]=out_dict[\"abilities\"][ability_keys[i]]\n",
    "deleted=out_dict.pop(\"abilities\",\"\")"
   ]
  },
  {
   "cell_type": "code",
   "execution_count": null,
   "metadata": {},
   "outputs": [],
   "source": []
  },
  {
   "cell_type": "code",
   "execution_count": null,
   "metadata": {},
   "outputs": [],
   "source": [
    "for key in r20_json.keys():\n",
    "    print(out_dict[key],\"|\",r20_json[key])"
   ]
  },
  {
   "cell_type": "code",
   "execution_count": null,
   "metadata": {},
   "outputs": [],
   "source": [
    "f=open(\"r20_test.json\",\"w\")\n",
    "json.dump(out_dict,f)"
   ]
  },
  {
   "cell_type": "code",
   "execution_count": null,
   "metadata": {},
   "outputs": [],
   "source": [
    "f.close()"
   ]
  },
  {
   "cell_type": "code",
   "execution_count": null,
   "metadata": {},
   "outputs": [],
   "source": []
  }
 ],
 "metadata": {
  "kernelspec": {
   "display_name": "Python 3",
   "language": "python",
   "name": "python3"
  },
  "language_info": {
   "codemirror_mode": {
    "name": "ipython",
    "version": 3
   },
   "file_extension": ".py",
   "mimetype": "text/x-python",
   "name": "python",
   "nbconvert_exporter": "python",
   "pygments_lexer": "ipython3",
   "version": "3.7.6"
  }
 },
 "nbformat": 4,
 "nbformat_minor": 4
}
